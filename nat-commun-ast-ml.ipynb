{
 "cells": [
  {
   "cell_type": "code",
   "execution_count": 1,
   "id": "333f79ca-d888-45d9-a733-0b4e413307c3",
   "metadata": {},
   "outputs": [
    {
     "data": {
      "text/plain": [
       "'3.9.2 (tags/v3.9.2:1a79785, Feb 19 2021, 13:44:55) [MSC v.1928 64 bit (AMD64)]'"
      ]
     },
     "execution_count": 1,
     "metadata": {},
     "output_type": "execute_result"
    }
   ],
   "source": [
    "import sys\n",
    "\n",
    "import numpy as np\n",
    "import pandas as pd\n",
    "from IPython.display import display,HTML\n",
    "\n",
    "from resistell import (\n",
    "    ResistellModel,\n",
    "    load_json,\n",
    "    save_json,\n",
    "    load_data,\n",
    "    sample_level_metrics,\n",
    "    recording_level_metrics\n",
    ")\n",
    "sys.version"
   ]
  },
  {
   "cell_type": "code",
   "execution_count": 2,
   "id": "a03e20a2-4bc9-4e1c-af42-076f8f97770b",
   "metadata": {},
   "outputs": [],
   "source": [
    "models=load_json(\"resistell_models.json\")\n",
    "data=load_data(\"Supplementary data 2 - Experiments used for training and testing per model.xlsx\")"
   ]
  },
  {
   "cell_type": "code",
   "execution_count": 3,
   "id": "87e6412f-31d3-46d1-aa74-7b083ce2d3b5",
   "metadata": {},
   "outputs": [
    {
     "data": {
      "text/html": [
       "<b> CIP Model (Kpneumoniae) <b>"
      ],
      "text/plain": [
       "<IPython.core.display.HTML object>"
      ]
     },
     "metadata": {},
     "output_type": "display_data"
    },
    {
     "data": {
      "text/html": [
       "<div>\n",
       "<style scoped>\n",
       "    .dataframe tbody tr th:only-of-type {\n",
       "        vertical-align: middle;\n",
       "    }\n",
       "\n",
       "    .dataframe tbody tr th {\n",
       "        vertical-align: top;\n",
       "    }\n",
       "\n",
       "    .dataframe thead th {\n",
       "        text-align: right;\n",
       "    }\n",
       "</style>\n",
       "<table border=\"1\" class=\"dataframe\">\n",
       "  <thead>\n",
       "    <tr style=\"text-align: right;\">\n",
       "      <th></th>\n",
       "      <th>Model no. 1</th>\n",
       "      <th>Model no. 2</th>\n",
       "      <th>Model no. 3</th>\n",
       "      <th>Model no. 4</th>\n",
       "    </tr>\n",
       "    <tr>\n",
       "      <th>metric</th>\n",
       "      <th></th>\n",
       "      <th></th>\n",
       "      <th></th>\n",
       "      <th></th>\n",
       "    </tr>\n",
       "  </thead>\n",
       "  <tbody>\n",
       "    <tr>\n",
       "      <th>true positive</th>\n",
       "      <td>97.0</td>\n",
       "      <td>99.0</td>\n",
       "      <td>101.0</td>\n",
       "      <td>102.0</td>\n",
       "    </tr>\n",
       "    <tr>\n",
       "      <th>true negative</th>\n",
       "      <td>103.0</td>\n",
       "      <td>110.0</td>\n",
       "      <td>112.0</td>\n",
       "      <td>115.0</td>\n",
       "    </tr>\n",
       "    <tr>\n",
       "      <th>false positive</th>\n",
       "      <td>21.0</td>\n",
       "      <td>14.0</td>\n",
       "      <td>12.0</td>\n",
       "      <td>9.0</td>\n",
       "    </tr>\n",
       "    <tr>\n",
       "      <th>false negative</th>\n",
       "      <td>12.0</td>\n",
       "      <td>10.0</td>\n",
       "      <td>8.0</td>\n",
       "      <td>7.0</td>\n",
       "    </tr>\n",
       "    <tr>\n",
       "      <th>accuracy %</th>\n",
       "      <td>85.8</td>\n",
       "      <td>89.7</td>\n",
       "      <td>91.4</td>\n",
       "      <td>93.1</td>\n",
       "    </tr>\n",
       "    <tr>\n",
       "      <th>sensitivity %</th>\n",
       "      <td>89.0</td>\n",
       "      <td>90.8</td>\n",
       "      <td>92.7</td>\n",
       "      <td>93.6</td>\n",
       "    </tr>\n",
       "    <tr>\n",
       "      <th>specificity %</th>\n",
       "      <td>83.1</td>\n",
       "      <td>88.7</td>\n",
       "      <td>90.3</td>\n",
       "      <td>92.7</td>\n",
       "    </tr>\n",
       "  </tbody>\n",
       "</table>\n",
       "</div>"
      ],
      "text/plain": [
       "                Model no. 1  Model no. 2  Model no. 3  Model no. 4\n",
       "metric                                                            \n",
       "true positive          97.0         99.0        101.0        102.0\n",
       "true negative         103.0        110.0        112.0        115.0\n",
       "false positive         21.0         14.0         12.0          9.0\n",
       "false negative         12.0         10.0          8.0          7.0\n",
       "accuracy %             85.8         89.7         91.4         93.1\n",
       "sensitivity %          89.0         90.8         92.7         93.6\n",
       "specificity %          83.1         88.7         90.3         92.7"
      ]
     },
     "execution_count": 3,
     "metadata": {},
     "output_type": "execute_result"
    }
   ],
   "source": [
    "display(HTML(\"<b> CIP Model (Kpneumoniae) <b>\"))\n",
    "train_df=data[\"CIP Model (Kpneumoniae)\"]\n",
    "results=[]\n",
    "for i in range(1,5):\n",
    "    model=ResistellModel(models[f\"mfdfa_qsd_kpneumoniae_ciprofloxacin_{i}\"])\n",
    "    train_df['score']=model.score(train_df)\n",
    "    results.append(recording_level_metrics(train_df,f\"Model no. {i}\"))\n",
    "pd.concat(results,axis=1)"
   ]
  },
  {
   "cell_type": "code",
   "execution_count": 4,
   "id": "ffbadeb1-b854-4fba-8b90-bc9ac7acf5c5",
   "metadata": {},
   "outputs": [
    {
     "data": {
      "text/html": [
       "<b> CRO Model <b>"
      ],
      "text/plain": [
       "<IPython.core.display.HTML object>"
      ]
     },
     "metadata": {},
     "output_type": "display_data"
    },
    {
     "data": {
      "text/html": [
       "<div>\n",
       "<style scoped>\n",
       "    .dataframe tbody tr th:only-of-type {\n",
       "        vertical-align: middle;\n",
       "    }\n",
       "\n",
       "    .dataframe tbody tr th {\n",
       "        vertical-align: top;\n",
       "    }\n",
       "\n",
       "    .dataframe thead th {\n",
       "        text-align: right;\n",
       "    }\n",
       "</style>\n",
       "<table border=\"1\" class=\"dataframe\">\n",
       "  <thead>\n",
       "    <tr style=\"text-align: right;\">\n",
       "      <th></th>\n",
       "      <th>Training</th>\n",
       "      <th>Test</th>\n",
       "    </tr>\n",
       "    <tr>\n",
       "      <th>metric</th>\n",
       "      <th></th>\n",
       "      <th></th>\n",
       "    </tr>\n",
       "  </thead>\n",
       "  <tbody>\n",
       "    <tr>\n",
       "      <th>true positive</th>\n",
       "      <td>234.0</td>\n",
       "      <td>69.0</td>\n",
       "    </tr>\n",
       "    <tr>\n",
       "      <th>true negative</th>\n",
       "      <td>212.0</td>\n",
       "      <td>21.0</td>\n",
       "    </tr>\n",
       "    <tr>\n",
       "      <th>false positive</th>\n",
       "      <td>12.0</td>\n",
       "      <td>1.0</td>\n",
       "    </tr>\n",
       "    <tr>\n",
       "      <th>false negative</th>\n",
       "      <td>29.0</td>\n",
       "      <td>0.0</td>\n",
       "    </tr>\n",
       "    <tr>\n",
       "      <th>accuracy %</th>\n",
       "      <td>91.6</td>\n",
       "      <td>98.9</td>\n",
       "    </tr>\n",
       "    <tr>\n",
       "      <th>sensitivity %</th>\n",
       "      <td>89.0</td>\n",
       "      <td>100.0</td>\n",
       "    </tr>\n",
       "    <tr>\n",
       "      <th>specificity %</th>\n",
       "      <td>94.6</td>\n",
       "      <td>95.5</td>\n",
       "    </tr>\n",
       "  </tbody>\n",
       "</table>\n",
       "</div>"
      ],
      "text/plain": [
       "                Training   Test\n",
       "metric                         \n",
       "true positive      234.0   69.0\n",
       "true negative      212.0   21.0\n",
       "false positive      12.0    1.0\n",
       "false negative      29.0    0.0\n",
       "accuracy %          91.6   98.9\n",
       "sensitivity %       89.0  100.0\n",
       "specificity %       94.6   95.5"
      ]
     },
     "execution_count": 4,
     "metadata": {},
     "output_type": "execute_result"
    }
   ],
   "source": [
    "display(HTML(\"<b> CRO Model <b>\"))\n",
    "test_df=data[\"CRO Model Test\"]\n",
    "train_df=data[\"CRO Model\"]\n",
    "model=ResistellModel(models[\"antibiotic_ceft_20220313\"])\n",
    "train_df['score']=model.score(train_df)\n",
    "test_df['score']=model.score(test_df)\n",
    "pd.concat([sample_level_metrics(train_df,'Training'),sample_level_metrics(test_df,'Test')],axis=1)"
   ]
  },
  {
   "cell_type": "code",
   "execution_count": 5,
   "id": "fd4c6b58-0687-426d-8465-9e3f79342cbd",
   "metadata": {},
   "outputs": [
    {
     "data": {
      "text/html": [
       "<b> CIP Model (Ecoli) <b>"
      ],
      "text/plain": [
       "<IPython.core.display.HTML object>"
      ]
     },
     "metadata": {},
     "output_type": "display_data"
    },
    {
     "data": {
      "text/html": [
       "<div>\n",
       "<style scoped>\n",
       "    .dataframe tbody tr th:only-of-type {\n",
       "        vertical-align: middle;\n",
       "    }\n",
       "\n",
       "    .dataframe tbody tr th {\n",
       "        vertical-align: top;\n",
       "    }\n",
       "\n",
       "    .dataframe thead th {\n",
       "        text-align: right;\n",
       "    }\n",
       "</style>\n",
       "<table border=\"1\" class=\"dataframe\">\n",
       "  <thead>\n",
       "    <tr style=\"text-align: right;\">\n",
       "      <th></th>\n",
       "      <th>Training</th>\n",
       "      <th>Test</th>\n",
       "    </tr>\n",
       "    <tr>\n",
       "      <th>metric</th>\n",
       "      <th></th>\n",
       "      <th></th>\n",
       "    </tr>\n",
       "  </thead>\n",
       "  <tbody>\n",
       "    <tr>\n",
       "      <th>true positive</th>\n",
       "      <td>97.0</td>\n",
       "      <td>55.0</td>\n",
       "    </tr>\n",
       "    <tr>\n",
       "      <th>true negative</th>\n",
       "      <td>93.0</td>\n",
       "      <td>22.0</td>\n",
       "    </tr>\n",
       "    <tr>\n",
       "      <th>false positive</th>\n",
       "      <td>9.0</td>\n",
       "      <td>3.0</td>\n",
       "    </tr>\n",
       "    <tr>\n",
       "      <th>false negative</th>\n",
       "      <td>11.0</td>\n",
       "      <td>6.0</td>\n",
       "    </tr>\n",
       "    <tr>\n",
       "      <th>accuracy %</th>\n",
       "      <td>90.5</td>\n",
       "      <td>89.5</td>\n",
       "    </tr>\n",
       "    <tr>\n",
       "      <th>sensitivity %</th>\n",
       "      <td>89.8</td>\n",
       "      <td>90.2</td>\n",
       "    </tr>\n",
       "    <tr>\n",
       "      <th>specificity %</th>\n",
       "      <td>91.2</td>\n",
       "      <td>88.0</td>\n",
       "    </tr>\n",
       "  </tbody>\n",
       "</table>\n",
       "</div>"
      ],
      "text/plain": [
       "                Training  Test\n",
       "metric                        \n",
       "true positive       97.0  55.0\n",
       "true negative       93.0  22.0\n",
       "false positive       9.0   3.0\n",
       "false negative      11.0   6.0\n",
       "accuracy %          90.5  89.5\n",
       "sensitivity %       89.8  90.2\n",
       "specificity %       91.2  88.0"
      ]
     },
     "execution_count": 5,
     "metadata": {},
     "output_type": "execute_result"
    }
   ],
   "source": [
    "display(HTML(\"<b> CIP Model (Ecoli) <b>\"))\n",
    "test_df=data[\"CIP Model (Ecoli) Test\"]\n",
    "train_df=data[\"CIP Model (Ecoli)\"]\n",
    "model=ResistellModel(models[\"mfdfa_qsd_ecoli_ciprofloxacin_20221129\"])\n",
    "train_df['score']=model.score(train_df)\n",
    "test_df['score']=model.score(test_df)\n",
    "pd.concat([sample_level_metrics(train_df,'Training'),sample_level_metrics(test_df,'Test')],axis=1)"
   ]
  },
  {
   "cell_type": "code",
   "execution_count": 6,
   "id": "d623c1ed-05fb-41c1-84fc-fd14c88ce6c3",
   "metadata": {},
   "outputs": [
    {
     "data": {
      "text/html": [
       "<b> CZA Model 2h <b>"
      ],
      "text/plain": [
       "<IPython.core.display.HTML object>"
      ]
     },
     "metadata": {},
     "output_type": "display_data"
    },
    {
     "data": {
      "text/html": [
       "<div>\n",
       "<style scoped>\n",
       "    .dataframe tbody tr th:only-of-type {\n",
       "        vertical-align: middle;\n",
       "    }\n",
       "\n",
       "    .dataframe tbody tr th {\n",
       "        vertical-align: top;\n",
       "    }\n",
       "\n",
       "    .dataframe thead th {\n",
       "        text-align: right;\n",
       "    }\n",
       "</style>\n",
       "<table border=\"1\" class=\"dataframe\">\n",
       "  <thead>\n",
       "    <tr style=\"text-align: right;\">\n",
       "      <th></th>\n",
       "      <th>Training</th>\n",
       "      <th>Test</th>\n",
       "    </tr>\n",
       "    <tr>\n",
       "      <th>metric</th>\n",
       "      <th></th>\n",
       "      <th></th>\n",
       "    </tr>\n",
       "  </thead>\n",
       "  <tbody>\n",
       "    <tr>\n",
       "      <th>true positive</th>\n",
       "      <td>54.0</td>\n",
       "      <td>25.0</td>\n",
       "    </tr>\n",
       "    <tr>\n",
       "      <th>true negative</th>\n",
       "      <td>59.0</td>\n",
       "      <td>15.0</td>\n",
       "    </tr>\n",
       "    <tr>\n",
       "      <th>false positive</th>\n",
       "      <td>1.0</td>\n",
       "      <td>1.0</td>\n",
       "    </tr>\n",
       "    <tr>\n",
       "      <th>false negative</th>\n",
       "      <td>4.0</td>\n",
       "      <td>2.0</td>\n",
       "    </tr>\n",
       "    <tr>\n",
       "      <th>accuracy %</th>\n",
       "      <td>95.8</td>\n",
       "      <td>93.0</td>\n",
       "    </tr>\n",
       "    <tr>\n",
       "      <th>sensitivity %</th>\n",
       "      <td>93.1</td>\n",
       "      <td>92.6</td>\n",
       "    </tr>\n",
       "    <tr>\n",
       "      <th>specificity %</th>\n",
       "      <td>98.3</td>\n",
       "      <td>93.8</td>\n",
       "    </tr>\n",
       "  </tbody>\n",
       "</table>\n",
       "</div>"
      ],
      "text/plain": [
       "                Training  Test\n",
       "metric                        \n",
       "true positive       54.0  25.0\n",
       "true negative       59.0  15.0\n",
       "false positive       1.0   1.0\n",
       "false negative       4.0   2.0\n",
       "accuracy %          95.8  93.0\n",
       "sensitivity %       93.1  92.6\n",
       "specificity %       98.3  93.8"
      ]
     },
     "execution_count": 6,
     "metadata": {},
     "output_type": "execute_result"
    }
   ],
   "source": [
    "display(HTML(\"<b> CZA Model 2h <b>\"))\n",
    "test_df=data[\"CZA Model 2h Test\"]\n",
    "train_df=data[\"CZA Model 2h\"]\n",
    "model=ResistellModel(models[\"ceftazidime_avibactam_20230918\"])\n",
    "train_df['score']=model.score(train_df)\n",
    "test_df['score']=model.score(test_df)\n",
    "pd.concat([recording_level_metrics(train_df,'Training'),recording_level_metrics(test_df,'Test')],axis=1)"
   ]
  },
  {
   "cell_type": "code",
   "execution_count": 7,
   "id": "d3598396-70be-4dd2-8049-addbf584d7f6",
   "metadata": {},
   "outputs": [
    {
     "data": {
      "text/html": [
       "<b> CTX Model (Ecoli) <b>"
      ],
      "text/plain": [
       "<IPython.core.display.HTML object>"
      ]
     },
     "metadata": {},
     "output_type": "display_data"
    },
    {
     "data": {
      "text/html": [
       "<div>\n",
       "<style scoped>\n",
       "    .dataframe tbody tr th:only-of-type {\n",
       "        vertical-align: middle;\n",
       "    }\n",
       "\n",
       "    .dataframe tbody tr th {\n",
       "        vertical-align: top;\n",
       "    }\n",
       "\n",
       "    .dataframe thead th {\n",
       "        text-align: right;\n",
       "    }\n",
       "</style>\n",
       "<table border=\"1\" class=\"dataframe\">\n",
       "  <thead>\n",
       "    <tr style=\"text-align: right;\">\n",
       "      <th></th>\n",
       "      <th>CTX</th>\n",
       "    </tr>\n",
       "    <tr>\n",
       "      <th>metric</th>\n",
       "      <th></th>\n",
       "    </tr>\n",
       "  </thead>\n",
       "  <tbody>\n",
       "    <tr>\n",
       "      <th>true positive</th>\n",
       "      <td>66.0</td>\n",
       "    </tr>\n",
       "    <tr>\n",
       "      <th>true negative</th>\n",
       "      <td>78.0</td>\n",
       "    </tr>\n",
       "    <tr>\n",
       "      <th>false positive</th>\n",
       "      <td>5.0</td>\n",
       "    </tr>\n",
       "    <tr>\n",
       "      <th>false negative</th>\n",
       "      <td>6.0</td>\n",
       "    </tr>\n",
       "    <tr>\n",
       "      <th>accuracy %</th>\n",
       "      <td>92.9</td>\n",
       "    </tr>\n",
       "    <tr>\n",
       "      <th>sensitivity %</th>\n",
       "      <td>91.7</td>\n",
       "    </tr>\n",
       "    <tr>\n",
       "      <th>specificity %</th>\n",
       "      <td>94.0</td>\n",
       "    </tr>\n",
       "  </tbody>\n",
       "</table>\n",
       "</div>"
      ],
      "text/plain": [
       "                 CTX\n",
       "metric              \n",
       "true positive   66.0\n",
       "true negative   78.0\n",
       "false positive   5.0\n",
       "false negative   6.0\n",
       "accuracy %      92.9\n",
       "sensitivity %   91.7\n",
       "specificity %   94.0"
      ]
     },
     "execution_count": 7,
     "metadata": {},
     "output_type": "execute_result"
    }
   ],
   "source": [
    "display(HTML(\"<b> CTX Model (Ecoli) <b>\"))\n",
    "train_df=data[\"CTX Model (Ecoli)\"]\n",
    "model=ResistellModel(models[\"mfdfa_qsd_ecoli_cefotaxime_20221129\"])\n",
    "train_df['score']=model.score(train_df)\n",
    "sample_level_metrics(train_df,'CTX')"
   ]
  }
 ],
 "metadata": {
  "kernelspec": {
   "display_name": "Python 3 (ipykernel)",
   "language": "python",
   "name": "python3"
  },
  "language_info": {
   "codemirror_mode": {
    "name": "ipython",
    "version": 3
   },
   "file_extension": ".py",
   "mimetype": "text/x-python",
   "name": "python",
   "nbconvert_exporter": "python",
   "pygments_lexer": "ipython3",
   "version": "3.9.2"
  }
 },
 "nbformat": 4,
 "nbformat_minor": 5
}
